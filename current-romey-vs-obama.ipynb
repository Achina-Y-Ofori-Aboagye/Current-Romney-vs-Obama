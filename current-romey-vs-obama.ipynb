{
 "cells": [
  {
   "cell_type": "markdown",
   "id": "2e2b3139",
   "metadata": {
    "papermill": {
     "duration": 0.007132,
     "end_time": "2024-09-02T05:38:33.959950",
     "exception": false,
     "start_time": "2024-09-02T05:38:33.952818",
     "status": "completed"
    },
    "tags": []
   },
   "source": [
    "<h1 align = \"center\" > Recent Romney vs Obama Election Analysis </h1>"
   ]
  },
  {
   "cell_type": "code",
   "execution_count": 1,
   "id": "6e26806f",
   "metadata": {
    "_cell_guid": "b1076dfc-b9ad-4769-8c92-a6c4dae69d19",
    "_uuid": "8f2839f25d086af736a60e9eeb907d3b93b6e0e5",
    "execution": {
     "iopub.execute_input": "2024-09-02T05:38:33.976185Z",
     "iopub.status.busy": "2024-09-02T05:38:33.975209Z",
     "iopub.status.idle": "2024-09-02T05:38:36.294692Z",
     "shell.execute_reply": "2024-09-02T05:38:36.293220Z"
    },
    "papermill": {
     "duration": 2.330392,
     "end_time": "2024-09-02T05:38:36.297327",
     "exception": false,
     "start_time": "2024-09-02T05:38:33.966935",
     "status": "completed"
    },
    "tags": []
   },
   "outputs": [
    {
     "name": "stdout",
     "output_type": "stream",
     "text": [
      "/kaggle/input/2012-election-obama-vs-romney/Election_Donor_Data.csv\n",
      "/kaggle/input/2012-election-obama-vs-romney/2012-general-election-romney-vs-obama.csv\n"
     ]
    }
   ],
   "source": [
    "# This Python 3 environment comes with many helpful analytics libraries installed\n",
    "# It is defined by the kaggle/python Docker image: https://github.com/kaggle/docker-python\n",
    "# For example, here's several helpful packages to load\n",
    "\n",
    "import numpy as np # linear algebra\n",
    "import pandas as pd # data processing, CSV file I/O (e.g. pd.read_csv)\n",
    "from pandas import Series, DataFrame\n",
    "import matplotlib as mlb\n",
    "import matplotlib.pyplot as plt\n",
    "import seaborn as sns\n",
    "sns.set_style('whitegrid')\n",
    "%matplotlib inline\n",
    "import requests\n",
    "import io\n",
    "from io import StringIO\n",
    "import warnings\n",
    "warnings.filterwarnings('ignore')\n",
    "\n",
    "import os\n",
    "for dirname, _, filenames in os.walk('/kaggle/input'):\n",
    "    for filename in filenames:\n",
    "        print(os.path.join(dirname, filename))\n"
   ]
  },
  {
   "cell_type": "code",
   "execution_count": 2,
   "id": "54041e03",
   "metadata": {
    "execution": {
     "iopub.execute_input": "2024-09-02T05:38:36.313537Z",
     "iopub.status.busy": "2024-09-02T05:38:36.312921Z",
     "iopub.status.idle": "2024-09-02T05:38:36.337518Z",
     "shell.execute_reply": "2024-09-02T05:38:36.336238Z"
    },
    "papermill": {
     "duration": 0.036041,
     "end_time": "2024-09-02T05:38:36.340100",
     "exception": false,
     "start_time": "2024-09-02T05:38:36.304059",
     "status": "completed"
    },
    "tags": []
   },
   "outputs": [],
   "source": [
    "data1 = pd.read_csv('/kaggle/input/2012-election-obama-vs-romney/2012-general-election-romney-vs-obama.csv')"
   ]
  },
  {
   "cell_type": "code",
   "execution_count": 3,
   "id": "3b3fe745",
   "metadata": {
    "execution": {
     "iopub.execute_input": "2024-09-02T05:38:36.355515Z",
     "iopub.status.busy": "2024-09-02T05:38:36.355050Z",
     "iopub.status.idle": "2024-09-02T05:38:36.385709Z",
     "shell.execute_reply": "2024-09-02T05:38:36.384402Z"
    },
    "papermill": {
     "duration": 0.041077,
     "end_time": "2024-09-02T05:38:36.388151",
     "exception": false,
     "start_time": "2024-09-02T05:38:36.347074",
     "status": "completed"
    },
    "tags": []
   },
   "outputs": [
    {
     "name": "stdout",
     "output_type": "stream",
     "text": [
      "<class 'pandas.core.frame.DataFrame'>\n",
      "RangeIndex: 590 entries, 0 to 589\n",
      "Data columns (total 17 columns):\n",
      " #   Column                  Non-Null Count  Dtype  \n",
      "---  ------                  --------------  -----  \n",
      " 0   Pollster                590 non-null    object \n",
      " 1   Start Date              590 non-null    object \n",
      " 2   End Date                590 non-null    object \n",
      " 3   Entry Date/Time (ET)    590 non-null    object \n",
      " 4   Number of Observations  568 non-null    float64\n",
      " 5   Population              590 non-null    object \n",
      " 6   Mode                    590 non-null    object \n",
      " 7   Obama                   590 non-null    float64\n",
      " 8   Romney                  590 non-null    float64\n",
      " 9   Undecided               423 non-null    float64\n",
      " 10  Other                   202 non-null    float64\n",
      " 11  Pollster URL            590 non-null    object \n",
      " 12  Source URL              588 non-null    object \n",
      " 13  Partisan                590 non-null    object \n",
      " 14  Affiliation             106 non-null    object \n",
      " 15  Question Text           0 non-null      float64\n",
      " 16  Question Iteration      590 non-null    int64  \n",
      "dtypes: float64(6), int64(1), object(10)\n",
      "memory usage: 78.5+ KB\n"
     ]
    }
   ],
   "source": [
    "data1.info()"
   ]
  },
  {
   "cell_type": "code",
   "execution_count": 4,
   "id": "29c60659",
   "metadata": {
    "execution": {
     "iopub.execute_input": "2024-09-02T05:38:36.403379Z",
     "iopub.status.busy": "2024-09-02T05:38:36.402979Z",
     "iopub.status.idle": "2024-09-02T05:38:36.430343Z",
     "shell.execute_reply": "2024-09-02T05:38:36.429218Z"
    },
    "papermill": {
     "duration": 0.03795,
     "end_time": "2024-09-02T05:38:36.432874",
     "exception": false,
     "start_time": "2024-09-02T05:38:36.394924",
     "status": "completed"
    },
    "tags": []
   },
   "outputs": [
    {
     "data": {
      "text/html": [
       "<div>\n",
       "<style scoped>\n",
       "    .dataframe tbody tr th:only-of-type {\n",
       "        vertical-align: middle;\n",
       "    }\n",
       "\n",
       "    .dataframe tbody tr th {\n",
       "        vertical-align: top;\n",
       "    }\n",
       "\n",
       "    .dataframe thead th {\n",
       "        text-align: right;\n",
       "    }\n",
       "</style>\n",
       "<table border=\"1\" class=\"dataframe\">\n",
       "  <thead>\n",
       "    <tr style=\"text-align: right;\">\n",
       "      <th></th>\n",
       "      <th>Pollster</th>\n",
       "      <th>Start Date</th>\n",
       "      <th>End Date</th>\n",
       "      <th>Entry Date/Time (ET)</th>\n",
       "      <th>Number of Observations</th>\n",
       "      <th>Population</th>\n",
       "      <th>Mode</th>\n",
       "      <th>Obama</th>\n",
       "      <th>Romney</th>\n",
       "      <th>Undecided</th>\n",
       "      <th>Other</th>\n",
       "      <th>Pollster URL</th>\n",
       "      <th>Source URL</th>\n",
       "      <th>Partisan</th>\n",
       "      <th>Affiliation</th>\n",
       "      <th>Question Text</th>\n",
       "      <th>Question Iteration</th>\n",
       "    </tr>\n",
       "  </thead>\n",
       "  <tbody>\n",
       "    <tr>\n",
       "      <th>0</th>\n",
       "      <td>Politico/GWU/Battleground</td>\n",
       "      <td>2012-11-04</td>\n",
       "      <td>2012-11-05</td>\n",
       "      <td>2012-11-06T08:40:26Z</td>\n",
       "      <td>1000.0</td>\n",
       "      <td>Likely Voters</td>\n",
       "      <td>Live Phone</td>\n",
       "      <td>47.0</td>\n",
       "      <td>47.0</td>\n",
       "      <td>6.0</td>\n",
       "      <td>NaN</td>\n",
       "      <td>http://elections.huffingtonpost.com/pollster/p...</td>\n",
       "      <td>http://www.politico.com/news/stories/1112/8338...</td>\n",
       "      <td>Nonpartisan</td>\n",
       "      <td>NaN</td>\n",
       "      <td>NaN</td>\n",
       "      <td>1</td>\n",
       "    </tr>\n",
       "    <tr>\n",
       "      <th>1</th>\n",
       "      <td>YouGov/Economist</td>\n",
       "      <td>2012-11-03</td>\n",
       "      <td>2012-11-05</td>\n",
       "      <td>2012-11-26T15:31:23Z</td>\n",
       "      <td>740.0</td>\n",
       "      <td>Likely Voters</td>\n",
       "      <td>Internet</td>\n",
       "      <td>49.0</td>\n",
       "      <td>47.0</td>\n",
       "      <td>3.0</td>\n",
       "      <td>NaN</td>\n",
       "      <td>http://elections.huffingtonpost.com/pollster/p...</td>\n",
       "      <td>http://cdn.yougov.com/cumulus_uploads/document...</td>\n",
       "      <td>Nonpartisan</td>\n",
       "      <td>NaN</td>\n",
       "      <td>NaN</td>\n",
       "      <td>1</td>\n",
       "    </tr>\n",
       "    <tr>\n",
       "      <th>2</th>\n",
       "      <td>Gravis Marketing</td>\n",
       "      <td>2012-11-03</td>\n",
       "      <td>2012-11-05</td>\n",
       "      <td>2012-11-06T09:22:02Z</td>\n",
       "      <td>872.0</td>\n",
       "      <td>Likely Voters</td>\n",
       "      <td>Automated Phone</td>\n",
       "      <td>48.0</td>\n",
       "      <td>48.0</td>\n",
       "      <td>4.0</td>\n",
       "      <td>NaN</td>\n",
       "      <td>http://elections.huffingtonpost.com/pollster/p...</td>\n",
       "      <td>http://www.gravispolls.com/2012/11/gravis-mark...</td>\n",
       "      <td>Nonpartisan</td>\n",
       "      <td>NaN</td>\n",
       "      <td>NaN</td>\n",
       "      <td>1</td>\n",
       "    </tr>\n",
       "    <tr>\n",
       "      <th>3</th>\n",
       "      <td>IBD/TIPP</td>\n",
       "      <td>2012-11-03</td>\n",
       "      <td>2012-11-05</td>\n",
       "      <td>2012-11-06T08:51:48Z</td>\n",
       "      <td>712.0</td>\n",
       "      <td>Likely Voters</td>\n",
       "      <td>Live Phone</td>\n",
       "      <td>50.0</td>\n",
       "      <td>49.0</td>\n",
       "      <td>NaN</td>\n",
       "      <td>1.0</td>\n",
       "      <td>http://elections.huffingtonpost.com/pollster/p...</td>\n",
       "      <td>http://news.investors.com/special-report/50841...</td>\n",
       "      <td>Nonpartisan</td>\n",
       "      <td>NaN</td>\n",
       "      <td>NaN</td>\n",
       "      <td>1</td>\n",
       "    </tr>\n",
       "    <tr>\n",
       "      <th>4</th>\n",
       "      <td>Rasmussen</td>\n",
       "      <td>2012-11-03</td>\n",
       "      <td>2012-11-05</td>\n",
       "      <td>2012-11-06T08:47:50Z</td>\n",
       "      <td>1500.0</td>\n",
       "      <td>Likely Voters</td>\n",
       "      <td>Automated Phone</td>\n",
       "      <td>48.0</td>\n",
       "      <td>49.0</td>\n",
       "      <td>NaN</td>\n",
       "      <td>NaN</td>\n",
       "      <td>http://elections.huffingtonpost.com/pollster/p...</td>\n",
       "      <td>http://www.rasmussenreports.com/public_content...</td>\n",
       "      <td>Nonpartisan</td>\n",
       "      <td>NaN</td>\n",
       "      <td>NaN</td>\n",
       "      <td>1</td>\n",
       "    </tr>\n",
       "  </tbody>\n",
       "</table>\n",
       "</div>"
      ],
      "text/plain": [
       "                    Pollster  Start Date    End Date  Entry Date/Time (ET)  \\\n",
       "0  Politico/GWU/Battleground  2012-11-04  2012-11-05  2012-11-06T08:40:26Z   \n",
       "1           YouGov/Economist  2012-11-03  2012-11-05  2012-11-26T15:31:23Z   \n",
       "2           Gravis Marketing  2012-11-03  2012-11-05  2012-11-06T09:22:02Z   \n",
       "3                   IBD/TIPP  2012-11-03  2012-11-05  2012-11-06T08:51:48Z   \n",
       "4                  Rasmussen  2012-11-03  2012-11-05  2012-11-06T08:47:50Z   \n",
       "\n",
       "   Number of Observations     Population             Mode  Obama  Romney  \\\n",
       "0                  1000.0  Likely Voters       Live Phone   47.0    47.0   \n",
       "1                   740.0  Likely Voters         Internet   49.0    47.0   \n",
       "2                   872.0  Likely Voters  Automated Phone   48.0    48.0   \n",
       "3                   712.0  Likely Voters       Live Phone   50.0    49.0   \n",
       "4                  1500.0  Likely Voters  Automated Phone   48.0    49.0   \n",
       "\n",
       "   Undecided  Other                                       Pollster URL  \\\n",
       "0        6.0    NaN  http://elections.huffingtonpost.com/pollster/p...   \n",
       "1        3.0    NaN  http://elections.huffingtonpost.com/pollster/p...   \n",
       "2        4.0    NaN  http://elections.huffingtonpost.com/pollster/p...   \n",
       "3        NaN    1.0  http://elections.huffingtonpost.com/pollster/p...   \n",
       "4        NaN    NaN  http://elections.huffingtonpost.com/pollster/p...   \n",
       "\n",
       "                                          Source URL     Partisan Affiliation  \\\n",
       "0  http://www.politico.com/news/stories/1112/8338...  Nonpartisan         NaN   \n",
       "1  http://cdn.yougov.com/cumulus_uploads/document...  Nonpartisan         NaN   \n",
       "2  http://www.gravispolls.com/2012/11/gravis-mark...  Nonpartisan         NaN   \n",
       "3  http://news.investors.com/special-report/50841...  Nonpartisan         NaN   \n",
       "4  http://www.rasmussenreports.com/public_content...  Nonpartisan         NaN   \n",
       "\n",
       "   Question Text  Question Iteration  \n",
       "0            NaN                   1  \n",
       "1            NaN                   1  \n",
       "2            NaN                   1  \n",
       "3            NaN                   1  \n",
       "4            NaN                   1  "
      ]
     },
     "execution_count": 4,
     "metadata": {},
     "output_type": "execute_result"
    }
   ],
   "source": [
    "data1.head()"
   ]
  },
  {
   "cell_type": "markdown",
   "id": "b4039b24",
   "metadata": {
    "papermill": {
     "duration": 0.00669,
     "end_time": "2024-09-02T05:38:36.446524",
     "exception": false,
     "start_time": "2024-09-02T05:38:36.439834",
     "status": "completed"
    },
    "tags": []
   },
   "source": [
    "<h1 align = \"center\" > Comparing Affiliations </h1>"
   ]
  },
  {
   "cell_type": "code",
   "execution_count": 5,
   "id": "77788ce0",
   "metadata": {
    "execution": {
     "iopub.execute_input": "2024-09-02T05:38:36.462397Z",
     "iopub.status.busy": "2024-09-02T05:38:36.461439Z",
     "iopub.status.idle": "2024-09-02T05:38:36.813067Z",
     "shell.execute_reply": "2024-09-02T05:38:36.811657Z"
    },
    "papermill": {
     "duration": 0.362379,
     "end_time": "2024-09-02T05:38:36.815742",
     "exception": false,
     "start_time": "2024-09-02T05:38:36.453363",
     "status": "completed"
    },
    "tags": []
   },
   "outputs": [
    {
     "data": {
      "text/plain": [
       "<seaborn.axisgrid.FacetGrid at 0x7f502939a920>"
      ]
     },
     "execution_count": 5,
     "metadata": {},
     "output_type": "execute_result"
    },
    {
     "data": {
      "image/png": "[encoded data removed]",
      "text/plain": [
       "<Figure size 500x500 with 1 Axes>"
      ]
     },
     "metadata": {},
     "output_type": "display_data"
    }
   ],
   "source": [
    "sns.catplot(x = \"Affiliation\", data=data1, kind='count')"
   ]
  },
  {
   "cell_type": "code",
   "execution_count": 6,
   "id": "a53bf7b7",
   "metadata": {
    "execution": {
     "iopub.execute_input": "2024-09-02T05:38:36.832792Z",
     "iopub.status.busy": "2024-09-02T05:38:36.831821Z",
     "iopub.status.idle": "2024-09-02T05:38:37.448901Z",
     "shell.execute_reply": "2024-09-02T05:38:37.447737Z"
    },
    "papermill": {
     "duration": 0.628236,
     "end_time": "2024-09-02T05:38:37.451375",
     "exception": false,
     "start_time": "2024-09-02T05:38:36.823139",
     "status": "completed"
    },
    "tags": []
   },
   "outputs": [
    {
     "data": {
      "text/plain": [
       "<seaborn.axisgrid.FacetGrid at 0x7f502939a3e0>"
      ]
     },
     "execution_count": 6,
     "metadata": {},
     "output_type": "execute_result"
    },
    {
     "data": {
      "image/png": "[encoded data removed]",
      "text/plain": [
       "<Figure size 1228.38x500 with 1 Axes>"
      ]
     },
     "metadata": {},
     "output_type": "display_data"
    }
   ],
   "source": [
    "sns.catplot(x='Affiliation',data=data1,kind='count',hue='Population',aspect=2)"
   ]
  },
  {
   "cell_type": "code",
   "execution_count": 7,
   "id": "6dcd4897",
   "metadata": {
    "execution": {
     "iopub.execute_input": "2024-09-02T05:38:37.469139Z",
     "iopub.status.busy": "2024-09-02T05:38:37.468705Z",
     "iopub.status.idle": "2024-09-02T05:38:37.477858Z",
     "shell.execute_reply": "2024-09-02T05:38:37.476602Z"
    },
    "papermill": {
     "duration": 0.020883,
     "end_time": "2024-09-02T05:38:37.480221",
     "exception": false,
     "start_time": "2024-09-02T05:38:37.459338",
     "status": "completed"
    },
    "tags": []
   },
   "outputs": [
    {
     "data": {
      "text/plain": [
       "Affiliation\n",
       "Dem      93\n",
       "Rep       9\n",
       "Other     4\n",
       "Name: count, dtype: int64"
      ]
     },
     "execution_count": 7,
     "metadata": {},
     "output_type": "execute_result"
    }
   ],
   "source": [
    "data1.Affiliation.value_counts()"
   ]
  },
  {
   "cell_type": "code",
   "execution_count": 8,
   "id": "b81068ff",
   "metadata": {
    "execution": {
     "iopub.execute_input": "2024-09-02T05:38:37.498145Z",
     "iopub.status.busy": "2024-09-02T05:38:37.497699Z",
     "iopub.status.idle": "2024-09-02T05:38:37.510108Z",
     "shell.execute_reply": "2024-09-02T05:38:37.509022Z"
    },
    "papermill": {
     "duration": 0.02417,
     "end_time": "2024-09-02T05:38:37.512481",
     "exception": false,
     "start_time": "2024-09-02T05:38:37.488311",
     "status": "completed"
    },
    "tags": []
   },
   "outputs": [
    {
     "data": {
      "text/html": [
       "<div>\n",
       "<style scoped>\n",
       "    .dataframe tbody tr th:only-of-type {\n",
       "        vertical-align: middle;\n",
       "    }\n",
       "\n",
       "    .dataframe tbody tr th {\n",
       "        vertical-align: top;\n",
       "    }\n",
       "\n",
       "    .dataframe thead th {\n",
       "        text-align: right;\n",
       "    }\n",
       "</style>\n",
       "<table border=\"1\" class=\"dataframe\">\n",
       "  <thead>\n",
       "    <tr style=\"text-align: right;\">\n",
       "      <th></th>\n",
       "      <th>0</th>\n",
       "    </tr>\n",
       "  </thead>\n",
       "  <tbody>\n",
       "    <tr>\n",
       "      <th>Number of Observations</th>\n",
       "      <td>1295.390845</td>\n",
       "    </tr>\n",
       "    <tr>\n",
       "      <th>Obama</th>\n",
       "      <td>46.774576</td>\n",
       "    </tr>\n",
       "    <tr>\n",
       "      <th>Romney</th>\n",
       "      <td>44.572881</td>\n",
       "    </tr>\n",
       "    <tr>\n",
       "      <th>Undecided</th>\n",
       "      <td>6.546099</td>\n",
       "    </tr>\n",
       "    <tr>\n",
       "      <th>Other</th>\n",
       "      <td>3.400990</td>\n",
       "    </tr>\n",
       "    <tr>\n",
       "      <th>Question Text</th>\n",
       "      <td>NaN</td>\n",
       "    </tr>\n",
       "    <tr>\n",
       "      <th>Question Iteration</th>\n",
       "      <td>1.000000</td>\n",
       "    </tr>\n",
       "  </tbody>\n",
       "</table>\n",
       "</div>"
      ],
      "text/plain": [
       "                                  0\n",
       "Number of Observations  1295.390845\n",
       "Obama                     46.774576\n",
       "Romney                    44.572881\n",
       "Undecided                  6.546099\n",
       "Other                      3.400990\n",
       "Question Text                   NaN\n",
       "Question Iteration         1.000000"
      ]
     },
     "execution_count": 8,
     "metadata": {},
     "output_type": "execute_result"
    }
   ],
   "source": [
    "avg = pd.DataFrame(data1.mean(numeric_only=True))\n",
    "avg"
   ]
  },
  {
   "cell_type": "code",
   "execution_count": 9,
   "id": "bfba0f07",
   "metadata": {
    "execution": {
     "iopub.execute_input": "2024-09-02T05:38:37.530699Z",
     "iopub.status.busy": "2024-09-02T05:38:37.530237Z",
     "iopub.status.idle": "2024-09-02T05:38:37.542432Z",
     "shell.execute_reply": "2024-09-02T05:38:37.541320Z"
    },
    "papermill": {
     "duration": 0.024328,
     "end_time": "2024-09-02T05:38:37.545142",
     "exception": false,
     "start_time": "2024-09-02T05:38:37.520814",
     "status": "completed"
    },
    "tags": []
   },
   "outputs": [
    {
     "data": {
      "text/html": [
       "<div>\n",
       "<style scoped>\n",
       "    .dataframe tbody tr th:only-of-type {\n",
       "        vertical-align: middle;\n",
       "    }\n",
       "\n",
       "    .dataframe tbody tr th {\n",
       "        vertical-align: top;\n",
       "    }\n",
       "\n",
       "    .dataframe thead th {\n",
       "        text-align: right;\n",
       "    }\n",
       "</style>\n",
       "<table border=\"1\" class=\"dataframe\">\n",
       "  <thead>\n",
       "    <tr style=\"text-align: right;\">\n",
       "      <th></th>\n",
       "      <th>0</th>\n",
       "    </tr>\n",
       "  </thead>\n",
       "  <tbody>\n",
       "    <tr>\n",
       "      <th>Obama</th>\n",
       "      <td>46.774576</td>\n",
       "    </tr>\n",
       "    <tr>\n",
       "      <th>Romney</th>\n",
       "      <td>44.572881</td>\n",
       "    </tr>\n",
       "    <tr>\n",
       "      <th>Undecided</th>\n",
       "      <td>6.546099</td>\n",
       "    </tr>\n",
       "    <tr>\n",
       "      <th>Other</th>\n",
       "      <td>3.400990</td>\n",
       "    </tr>\n",
       "  </tbody>\n",
       "</table>\n",
       "</div>"
      ],
      "text/plain": [
       "                   0\n",
       "Obama      46.774576\n",
       "Romney     44.572881\n",
       "Undecided   6.546099\n",
       "Other       3.400990"
      ]
     },
     "execution_count": 9,
     "metadata": {},
     "output_type": "execute_result"
    }
   ],
   "source": [
    "avg.drop(['Number of Observations','Question Text','Question Iteration'],axis=0,inplace=True)\n",
    "avg"
   ]
  },
  {
   "cell_type": "code",
   "execution_count": 10,
   "id": "d52ee34b",
   "metadata": {
    "execution": {
     "iopub.execute_input": "2024-09-02T05:38:37.564285Z",
     "iopub.status.busy": "2024-09-02T05:38:37.562917Z",
     "iopub.status.idle": "2024-09-02T05:38:37.575199Z",
     "shell.execute_reply": "2024-09-02T05:38:37.574042Z"
    },
    "papermill": {
     "duration": 0.024193,
     "end_time": "2024-09-02T05:38:37.577596",
     "exception": false,
     "start_time": "2024-09-02T05:38:37.553403",
     "status": "completed"
    },
    "tags": []
   },
   "outputs": [
    {
     "data": {
      "text/html": [
       "<div>\n",
       "<style scoped>\n",
       "    .dataframe tbody tr th:only-of-type {\n",
       "        vertical-align: middle;\n",
       "    }\n",
       "\n",
       "    .dataframe tbody tr th {\n",
       "        vertical-align: top;\n",
       "    }\n",
       "\n",
       "    .dataframe thead th {\n",
       "        text-align: right;\n",
       "    }\n",
       "</style>\n",
       "<table border=\"1\" class=\"dataframe\">\n",
       "  <thead>\n",
       "    <tr style=\"text-align: right;\">\n",
       "      <th></th>\n",
       "      <th>0</th>\n",
       "    </tr>\n",
       "  </thead>\n",
       "  <tbody>\n",
       "    <tr>\n",
       "      <th>Number of Observations</th>\n",
       "      <td>1616.240271</td>\n",
       "    </tr>\n",
       "    <tr>\n",
       "      <th>Obama</th>\n",
       "      <td>2.447069</td>\n",
       "    </tr>\n",
       "    <tr>\n",
       "      <th>Romney</th>\n",
       "      <td>2.925320</td>\n",
       "    </tr>\n",
       "    <tr>\n",
       "      <th>Undecided</th>\n",
       "      <td>3.698614</td>\n",
       "    </tr>\n",
       "    <tr>\n",
       "      <th>Other</th>\n",
       "      <td>2.721318</td>\n",
       "    </tr>\n",
       "    <tr>\n",
       "      <th>Question Text</th>\n",
       "      <td>NaN</td>\n",
       "    </tr>\n",
       "    <tr>\n",
       "      <th>Question Iteration</th>\n",
       "      <td>0.000000</td>\n",
       "    </tr>\n",
       "  </tbody>\n",
       "</table>\n",
       "</div>"
      ],
      "text/plain": [
       "                                  0\n",
       "Number of Observations  1616.240271\n",
       "Obama                      2.447069\n",
       "Romney                     2.925320\n",
       "Undecided                  3.698614\n",
       "Other                      2.721318\n",
       "Question Text                   NaN\n",
       "Question Iteration         0.000000"
      ]
     },
     "execution_count": 10,
     "metadata": {},
     "output_type": "execute_result"
    }
   ],
   "source": [
    "std = pd.DataFrame(data1.std(numeric_only=True))\n",
    "std"
   ]
  },
  {
   "cell_type": "code",
   "execution_count": 11,
   "id": "aadd5b08",
   "metadata": {
    "execution": {
     "iopub.execute_input": "2024-09-02T05:38:37.596286Z",
     "iopub.status.busy": "2024-09-02T05:38:37.595827Z",
     "iopub.status.idle": "2024-09-02T05:38:37.879856Z",
     "shell.execute_reply": "2024-09-02T05:38:37.878761Z"
    },
    "papermill": {
     "duration": 0.29628,
     "end_time": "2024-09-02T05:38:37.882291",
     "exception": false,
     "start_time": "2024-09-02T05:38:37.586011",
     "status": "completed"
    },
    "tags": []
   },
   "outputs": [
    {
     "data": {
      "text/plain": [
       "<Axes: >"
      ]
     },
     "execution_count": 11,
     "metadata": {},
     "output_type": "execute_result"
    },
    {
     "data": {
      "image/png": "[encoded data removed]",
      "text/plain": [
       "<Figure size 640x480 with 1 Axes>"
      ]
     },
     "metadata": {},
     "output_type": "display_data"
    }
   ],
   "source": [
    "avg.plot(yerr = std,kind = 'bar', legend = False)"
   ]
  },
  {
   "cell_type": "code",
   "execution_count": 12,
   "id": "e45e7537",
   "metadata": {
    "execution": {
     "iopub.execute_input": "2024-09-02T05:38:37.902232Z",
     "iopub.status.busy": "2024-09-02T05:38:37.901799Z",
     "iopub.status.idle": "2024-09-02T05:38:37.917341Z",
     "shell.execute_reply": "2024-09-02T05:38:37.916157Z"
    },
    "papermill": {
     "duration": 0.02845,
     "end_time": "2024-09-02T05:38:37.919932",
     "exception": false,
     "start_time": "2024-09-02T05:38:37.891482",
     "status": "completed"
    },
    "tags": []
   },
   "outputs": [
    {
     "data": {
      "text/html": [
       "<div>\n",
       "<style scoped>\n",
       "    .dataframe tbody tr th:only-of-type {\n",
       "        vertical-align: middle;\n",
       "    }\n",
       "\n",
       "    .dataframe tbody tr th {\n",
       "        vertical-align: top;\n",
       "    }\n",
       "\n",
       "    .dataframe thead th {\n",
       "        text-align: right;\n",
       "    }\n",
       "</style>\n",
       "<table border=\"1\" class=\"dataframe\">\n",
       "  <thead>\n",
       "    <tr style=\"text-align: right;\">\n",
       "      <th></th>\n",
       "      <th>0</th>\n",
       "      <th>0</th>\n",
       "    </tr>\n",
       "  </thead>\n",
       "  <tbody>\n",
       "    <tr>\n",
       "      <th>Obama</th>\n",
       "      <td>46.774576</td>\n",
       "      <td>2.447069</td>\n",
       "    </tr>\n",
       "    <tr>\n",
       "      <th>Romney</th>\n",
       "      <td>44.572881</td>\n",
       "      <td>2.925320</td>\n",
       "    </tr>\n",
       "    <tr>\n",
       "      <th>Undecided</th>\n",
       "      <td>6.546099</td>\n",
       "      <td>3.698614</td>\n",
       "    </tr>\n",
       "    <tr>\n",
       "      <th>Other</th>\n",
       "      <td>3.400990</td>\n",
       "      <td>2.721318</td>\n",
       "    </tr>\n",
       "    <tr>\n",
       "      <th>Number of Observations</th>\n",
       "      <td>NaN</td>\n",
       "      <td>1616.240271</td>\n",
       "    </tr>\n",
       "    <tr>\n",
       "      <th>Question Text</th>\n",
       "      <td>NaN</td>\n",
       "      <td>NaN</td>\n",
       "    </tr>\n",
       "    <tr>\n",
       "      <th>Question Iteration</th>\n",
       "      <td>NaN</td>\n",
       "      <td>0.000000</td>\n",
       "    </tr>\n",
       "  </tbody>\n",
       "</table>\n",
       "</div>"
      ],
      "text/plain": [
       "                                0            0\n",
       "Obama                   46.774576     2.447069\n",
       "Romney                  44.572881     2.925320\n",
       "Undecided                6.546099     3.698614\n",
       "Other                    3.400990     2.721318\n",
       "Number of Observations        NaN  1616.240271\n",
       "Question Text                 NaN          NaN\n",
       "Question Iteration            NaN     0.000000"
      ]
     },
     "execution_count": 12,
     "metadata": {},
     "output_type": "execute_result"
    }
   ],
   "source": [
    "avgtab = pd.concat([avg,std], axis=1)\n",
    "avgtab"
   ]
  },
  {
   "cell_type": "code",
   "execution_count": 13,
   "id": "82cc4c07",
   "metadata": {
    "execution": {
     "iopub.execute_input": "2024-09-02T05:38:37.940636Z",
     "iopub.status.busy": "2024-09-02T05:38:37.940184Z",
     "iopub.status.idle": "2024-09-02T05:38:37.952315Z",
     "shell.execute_reply": "2024-09-02T05:38:37.951011Z"
    },
    "papermill": {
     "duration": 0.025125,
     "end_time": "2024-09-02T05:38:37.954786",
     "exception": false,
     "start_time": "2024-09-02T05:38:37.929661",
     "status": "completed"
    },
    "tags": []
   },
   "outputs": [
    {
     "data": {
      "text/html": [
       "<div>\n",
       "<style scoped>\n",
       "    .dataframe tbody tr th:only-of-type {\n",
       "        vertical-align: middle;\n",
       "    }\n",
       "\n",
       "    .dataframe tbody tr th {\n",
       "        vertical-align: top;\n",
       "    }\n",
       "\n",
       "    .dataframe thead th {\n",
       "        text-align: right;\n",
       "    }\n",
       "</style>\n",
       "<table border=\"1\" class=\"dataframe\">\n",
       "  <thead>\n",
       "    <tr style=\"text-align: right;\">\n",
       "      <th></th>\n",
       "      <th>Average</th>\n",
       "      <th>STD</th>\n",
       "    </tr>\n",
       "  </thead>\n",
       "  <tbody>\n",
       "    <tr>\n",
       "      <th>Obama</th>\n",
       "      <td>46.774576</td>\n",
       "      <td>2.447069</td>\n",
       "    </tr>\n",
       "    <tr>\n",
       "      <th>Romney</th>\n",
       "      <td>44.572881</td>\n",
       "      <td>2.925320</td>\n",
       "    </tr>\n",
       "    <tr>\n",
       "      <th>Undecided</th>\n",
       "      <td>6.546099</td>\n",
       "      <td>3.698614</td>\n",
       "    </tr>\n",
       "    <tr>\n",
       "      <th>Other</th>\n",
       "      <td>3.400990</td>\n",
       "      <td>2.721318</td>\n",
       "    </tr>\n",
       "    <tr>\n",
       "      <th>Number of Observations</th>\n",
       "      <td>NaN</td>\n",
       "      <td>1616.240271</td>\n",
       "    </tr>\n",
       "    <tr>\n",
       "      <th>Question Text</th>\n",
       "      <td>NaN</td>\n",
       "      <td>NaN</td>\n",
       "    </tr>\n",
       "    <tr>\n",
       "      <th>Question Iteration</th>\n",
       "      <td>NaN</td>\n",
       "      <td>0.000000</td>\n",
       "    </tr>\n",
       "  </tbody>\n",
       "</table>\n",
       "</div>"
      ],
      "text/plain": [
       "                          Average          STD\n",
       "Obama                   46.774576     2.447069\n",
       "Romney                  44.572881     2.925320\n",
       "Undecided                6.546099     3.698614\n",
       "Other                    3.400990     2.721318\n",
       "Number of Observations        NaN  1616.240271\n",
       "Question Text                 NaN          NaN\n",
       "Question Iteration            NaN     0.000000"
      ]
     },
     "execution_count": 13,
     "metadata": {},
     "output_type": "execute_result"
    }
   ],
   "source": [
    "avgtab.columns=['Average','STD']\n",
    "avgtab"
   ]
  },
  {
   "cell_type": "code",
   "execution_count": 14,
   "id": "a73707b4",
   "metadata": {
    "execution": {
     "iopub.execute_input": "2024-09-02T05:38:37.975307Z",
     "iopub.status.busy": "2024-09-02T05:38:37.974570Z",
     "iopub.status.idle": "2024-09-02T05:38:38.316952Z",
     "shell.execute_reply": "2024-09-02T05:38:38.315748Z"
    },
    "papermill": {
     "duration": 0.355376,
     "end_time": "2024-09-02T05:38:38.319410",
     "exception": false,
     "start_time": "2024-09-02T05:38:37.964034",
     "status": "completed"
    },
    "tags": []
   },
   "outputs": [
    {
     "data": {
      "text/plain": [
       "<Axes: xlabel='End Date'>"
      ]
     },
     "execution_count": 14,
     "metadata": {},
     "output_type": "execute_result"
    },
    {
     "data": {
      "image/png": "[encoded data removed]",
      "text/plain": [
       "<Figure size 640x480 with 1 Axes>"
      ]
     },
     "metadata": {},
     "output_type": "display_data"
    }
   ],
   "source": [
    "data1.plot(x='End Date',y=['Obama','Romney','Undecided'],linestyle='',marker='o')"
   ]
  },
  {
   "cell_type": "markdown",
   "id": "509a7b8a",
   "metadata": {
    "papermill": {
     "duration": 0.009957,
     "end_time": "2024-09-02T05:38:38.340003",
     "exception": false,
     "start_time": "2024-09-02T05:38:38.330046",
     "status": "completed"
    },
    "tags": []
   },
   "source": [
    "<h1 align = \"center\" >Add a Difference Column</h1>"
   ]
  },
  {
   "cell_type": "code",
   "execution_count": 15,
   "id": "62cc0233",
   "metadata": {
    "execution": {
     "iopub.execute_input": "2024-09-02T05:38:38.362526Z",
     "iopub.status.busy": "2024-09-02T05:38:38.362020Z",
     "iopub.status.idle": "2024-09-02T05:38:38.385866Z",
     "shell.execute_reply": "2024-09-02T05:38:38.384705Z"
    },
    "papermill": {
     "duration": 0.038104,
     "end_time": "2024-09-02T05:38:38.388440",
     "exception": false,
     "start_time": "2024-09-02T05:38:38.350336",
     "status": "completed"
    },
    "tags": []
   },
   "outputs": [
    {
     "data": {
      "text/html": [
       "<div>\n",
       "<style scoped>\n",
       "    .dataframe tbody tr th:only-of-type {\n",
       "        vertical-align: middle;\n",
       "    }\n",
       "\n",
       "    .dataframe tbody tr th {\n",
       "        vertical-align: top;\n",
       "    }\n",
       "\n",
       "    .dataframe thead th {\n",
       "        text-align: right;\n",
       "    }\n",
       "</style>\n",
       "<table border=\"1\" class=\"dataframe\">\n",
       "  <thead>\n",
       "    <tr style=\"text-align: right;\">\n",
       "      <th></th>\n",
       "      <th>Pollster</th>\n",
       "      <th>Start Date</th>\n",
       "      <th>End Date</th>\n",
       "      <th>Entry Date/Time (ET)</th>\n",
       "      <th>Number of Observations</th>\n",
       "      <th>Population</th>\n",
       "      <th>Mode</th>\n",
       "      <th>Obama</th>\n",
       "      <th>Romney</th>\n",
       "      <th>Undecided</th>\n",
       "      <th>Other</th>\n",
       "      <th>Pollster URL</th>\n",
       "      <th>Source URL</th>\n",
       "      <th>Partisan</th>\n",
       "      <th>Affiliation</th>\n",
       "      <th>Question Text</th>\n",
       "      <th>Question Iteration</th>\n",
       "      <th>Difference</th>\n",
       "    </tr>\n",
       "  </thead>\n",
       "  <tbody>\n",
       "    <tr>\n",
       "      <th>0</th>\n",
       "      <td>Politico/GWU/Battleground</td>\n",
       "      <td>2012-11-04</td>\n",
       "      <td>2012-11-05</td>\n",
       "      <td>2012-11-06T08:40:26Z</td>\n",
       "      <td>1000.0</td>\n",
       "      <td>Likely Voters</td>\n",
       "      <td>Live Phone</td>\n",
       "      <td>47.0</td>\n",
       "      <td>47.0</td>\n",
       "      <td>6.0</td>\n",
       "      <td>NaN</td>\n",
       "      <td>http://elections.huffingtonpost.com/pollster/p...</td>\n",
       "      <td>http://www.politico.com/news/stories/1112/8338...</td>\n",
       "      <td>Nonpartisan</td>\n",
       "      <td>NaN</td>\n",
       "      <td>NaN</td>\n",
       "      <td>1</td>\n",
       "      <td>0.00</td>\n",
       "    </tr>\n",
       "    <tr>\n",
       "      <th>1</th>\n",
       "      <td>YouGov/Economist</td>\n",
       "      <td>2012-11-03</td>\n",
       "      <td>2012-11-05</td>\n",
       "      <td>2012-11-26T15:31:23Z</td>\n",
       "      <td>740.0</td>\n",
       "      <td>Likely Voters</td>\n",
       "      <td>Internet</td>\n",
       "      <td>49.0</td>\n",
       "      <td>47.0</td>\n",
       "      <td>3.0</td>\n",
       "      <td>NaN</td>\n",
       "      <td>http://elections.huffingtonpost.com/pollster/p...</td>\n",
       "      <td>http://cdn.yougov.com/cumulus_uploads/document...</td>\n",
       "      <td>Nonpartisan</td>\n",
       "      <td>NaN</td>\n",
       "      <td>NaN</td>\n",
       "      <td>1</td>\n",
       "      <td>0.02</td>\n",
       "    </tr>\n",
       "    <tr>\n",
       "      <th>2</th>\n",
       "      <td>Gravis Marketing</td>\n",
       "      <td>2012-11-03</td>\n",
       "      <td>2012-11-05</td>\n",
       "      <td>2012-11-06T09:22:02Z</td>\n",
       "      <td>872.0</td>\n",
       "      <td>Likely Voters</td>\n",
       "      <td>Automated Phone</td>\n",
       "      <td>48.0</td>\n",
       "      <td>48.0</td>\n",
       "      <td>4.0</td>\n",
       "      <td>NaN</td>\n",
       "      <td>http://elections.huffingtonpost.com/pollster/p...</td>\n",
       "      <td>http://www.gravispolls.com/2012/11/gravis-mark...</td>\n",
       "      <td>Nonpartisan</td>\n",
       "      <td>NaN</td>\n",
       "      <td>NaN</td>\n",
       "      <td>1</td>\n",
       "      <td>0.00</td>\n",
       "    </tr>\n",
       "    <tr>\n",
       "      <th>3</th>\n",
       "      <td>IBD/TIPP</td>\n",
       "      <td>2012-11-03</td>\n",
       "      <td>2012-11-05</td>\n",
       "      <td>2012-11-06T08:51:48Z</td>\n",
       "      <td>712.0</td>\n",
       "      <td>Likely Voters</td>\n",
       "      <td>Live Phone</td>\n",
       "      <td>50.0</td>\n",
       "      <td>49.0</td>\n",
       "      <td>NaN</td>\n",
       "      <td>1.0</td>\n",
       "      <td>http://elections.huffingtonpost.com/pollster/p...</td>\n",
       "      <td>http://news.investors.com/special-report/50841...</td>\n",
       "      <td>Nonpartisan</td>\n",
       "      <td>NaN</td>\n",
       "      <td>NaN</td>\n",
       "      <td>1</td>\n",
       "      <td>0.01</td>\n",
       "    </tr>\n",
       "    <tr>\n",
       "      <th>4</th>\n",
       "      <td>Rasmussen</td>\n",
       "      <td>2012-11-03</td>\n",
       "      <td>2012-11-05</td>\n",
       "      <td>2012-11-06T08:47:50Z</td>\n",
       "      <td>1500.0</td>\n",
       "      <td>Likely Voters</td>\n",
       "      <td>Automated Phone</td>\n",
       "      <td>48.0</td>\n",
       "      <td>49.0</td>\n",
       "      <td>NaN</td>\n",
       "      <td>NaN</td>\n",
       "      <td>http://elections.huffingtonpost.com/pollster/p...</td>\n",
       "      <td>http://www.rasmussenreports.com/public_content...</td>\n",
       "      <td>Nonpartisan</td>\n",
       "      <td>NaN</td>\n",
       "      <td>NaN</td>\n",
       "      <td>1</td>\n",
       "      <td>-0.01</td>\n",
       "    </tr>\n",
       "  </tbody>\n",
       "</table>\n",
       "</div>"
      ],
      "text/plain": [
       "                    Pollster  Start Date    End Date  Entry Date/Time (ET)  \\\n",
       "0  Politico/GWU/Battleground  2012-11-04  2012-11-05  2012-11-06T08:40:26Z   \n",
       "1           YouGov/Economist  2012-11-03  2012-11-05  2012-11-26T15:31:23Z   \n",
       "2           Gravis Marketing  2012-11-03  2012-11-05  2012-11-06T09:22:02Z   \n",
       "3                   IBD/TIPP  2012-11-03  2012-11-05  2012-11-06T08:51:48Z   \n",
       "4                  Rasmussen  2012-11-03  2012-11-05  2012-11-06T08:47:50Z   \n",
       "\n",
       "   Number of Observations     Population             Mode  Obama  Romney  \\\n",
       "0                  1000.0  Likely Voters       Live Phone   47.0    47.0   \n",
       "1                   740.0  Likely Voters         Internet   49.0    47.0   \n",
       "2                   872.0  Likely Voters  Automated Phone   48.0    48.0   \n",
       "3                   712.0  Likely Voters       Live Phone   50.0    49.0   \n",
       "4                  1500.0  Likely Voters  Automated Phone   48.0    49.0   \n",
       "\n",
       "   Undecided  Other                                       Pollster URL  \\\n",
       "0        6.0    NaN  http://elections.huffingtonpost.com/pollster/p...   \n",
       "1        3.0    NaN  http://elections.huffingtonpost.com/pollster/p...   \n",
       "2        4.0    NaN  http://elections.huffingtonpost.com/pollster/p...   \n",
       "3        NaN    1.0  http://elections.huffingtonpost.com/pollster/p...   \n",
       "4        NaN    NaN  http://elections.huffingtonpost.com/pollster/p...   \n",
       "\n",
       "                                          Source URL     Partisan Affiliation  \\\n",
       "0  http://www.politico.com/news/stories/1112/8338...  Nonpartisan         NaN   \n",
       "1  http://cdn.yougov.com/cumulus_uploads/document...  Nonpartisan         NaN   \n",
       "2  http://www.gravispolls.com/2012/11/gravis-mark...  Nonpartisan         NaN   \n",
       "3  http://news.investors.com/special-report/50841...  Nonpartisan         NaN   \n",
       "4  http://www.rasmussenreports.com/public_content...  Nonpartisan         NaN   \n",
       "\n",
       "   Question Text  Question Iteration  Difference  \n",
       "0            NaN                   1        0.00  \n",
       "1            NaN                   1        0.02  \n",
       "2            NaN                   1        0.00  \n",
       "3            NaN                   1        0.01  \n",
       "4            NaN                   1       -0.01  "
      ]
     },
     "execution_count": 15,
     "metadata": {},
     "output_type": "execute_result"
    }
   ],
   "source": [
    "data1[\"Difference\"] = (data1.Obama - data1.Romney)/100\n",
    "data1.head()"
   ]
  },
  {
   "cell_type": "code",
   "execution_count": 16,
   "id": "13d3528a",
   "metadata": {
    "execution": {
     "iopub.execute_input": "2024-09-02T05:38:38.412522Z",
     "iopub.status.busy": "2024-09-02T05:38:38.412073Z",
     "iopub.status.idle": "2024-09-02T05:38:38.441489Z",
     "shell.execute_reply": "2024-09-02T05:38:38.440242Z"
    },
    "papermill": {
     "duration": 0.044183,
     "end_time": "2024-09-02T05:38:38.444019",
     "exception": false,
     "start_time": "2024-09-02T05:38:38.399836",
     "status": "completed"
    },
    "tags": []
   },
   "outputs": [
    {
     "data": {
      "text/html": [
       "<div>\n",
       "<style scoped>\n",
       "    .dataframe tbody tr th:only-of-type {\n",
       "        vertical-align: middle;\n",
       "    }\n",
       "\n",
       "    .dataframe tbody tr th {\n",
       "        vertical-align: top;\n",
       "    }\n",
       "\n",
       "    .dataframe thead th {\n",
       "        text-align: right;\n",
       "    }\n",
       "</style>\n",
       "<table border=\"1\" class=\"dataframe\">\n",
       "  <thead>\n",
       "    <tr style=\"text-align: right;\">\n",
       "      <th></th>\n",
       "      <th>Start Date</th>\n",
       "      <th>Number of Observations</th>\n",
       "      <th>Obama</th>\n",
       "      <th>Romney</th>\n",
       "      <th>Undecided</th>\n",
       "      <th>Other</th>\n",
       "      <th>Question Text</th>\n",
       "      <th>Question Iteration</th>\n",
       "      <th>Difference</th>\n",
       "    </tr>\n",
       "  </thead>\n",
       "  <tbody>\n",
       "    <tr>\n",
       "      <th>0</th>\n",
       "      <td>2009-03-13</td>\n",
       "      <td>1403.000000</td>\n",
       "      <td>44.00</td>\n",
       "      <td>44.00</td>\n",
       "      <td>12.000000</td>\n",
       "      <td>NaN</td>\n",
       "      <td>NaN</td>\n",
       "      <td>1.0</td>\n",
       "      <td>0.0000</td>\n",
       "    </tr>\n",
       "    <tr>\n",
       "      <th>1</th>\n",
       "      <td>2009-04-17</td>\n",
       "      <td>686.000000</td>\n",
       "      <td>50.00</td>\n",
       "      <td>39.00</td>\n",
       "      <td>11.000000</td>\n",
       "      <td>NaN</td>\n",
       "      <td>NaN</td>\n",
       "      <td>1.0</td>\n",
       "      <td>0.1100</td>\n",
       "    </tr>\n",
       "    <tr>\n",
       "      <th>2</th>\n",
       "      <td>2009-05-14</td>\n",
       "      <td>1000.000000</td>\n",
       "      <td>53.00</td>\n",
       "      <td>35.00</td>\n",
       "      <td>12.000000</td>\n",
       "      <td>NaN</td>\n",
       "      <td>NaN</td>\n",
       "      <td>1.0</td>\n",
       "      <td>0.1800</td>\n",
       "    </tr>\n",
       "    <tr>\n",
       "      <th>3</th>\n",
       "      <td>2009-06-12</td>\n",
       "      <td>638.000000</td>\n",
       "      <td>48.00</td>\n",
       "      <td>40.00</td>\n",
       "      <td>12.000000</td>\n",
       "      <td>NaN</td>\n",
       "      <td>NaN</td>\n",
       "      <td>1.0</td>\n",
       "      <td>0.0800</td>\n",
       "    </tr>\n",
       "    <tr>\n",
       "      <th>4</th>\n",
       "      <td>2009-07-15</td>\n",
       "      <td>577.000000</td>\n",
       "      <td>49.00</td>\n",
       "      <td>40.00</td>\n",
       "      <td>11.000000</td>\n",
       "      <td>NaN</td>\n",
       "      <td>NaN</td>\n",
       "      <td>1.0</td>\n",
       "      <td>0.0900</td>\n",
       "    </tr>\n",
       "    <tr>\n",
       "      <th>...</th>\n",
       "      <td>...</td>\n",
       "      <td>...</td>\n",
       "      <td>...</td>\n",
       "      <td>...</td>\n",
       "      <td>...</td>\n",
       "      <td>...</td>\n",
       "      <td>...</td>\n",
       "      <td>...</td>\n",
       "      <td>...</td>\n",
       "    </tr>\n",
       "    <tr>\n",
       "      <th>356</th>\n",
       "      <td>2012-10-31</td>\n",
       "      <td>10420.250000</td>\n",
       "      <td>48.00</td>\n",
       "      <td>46.50</td>\n",
       "      <td>4.000000</td>\n",
       "      <td>2.0</td>\n",
       "      <td>NaN</td>\n",
       "      <td>1.0</td>\n",
       "      <td>0.0150</td>\n",
       "    </tr>\n",
       "    <tr>\n",
       "      <th>357</th>\n",
       "      <td>2012-11-01</td>\n",
       "      <td>1989.000000</td>\n",
       "      <td>49.00</td>\n",
       "      <td>47.25</td>\n",
       "      <td>2.400000</td>\n",
       "      <td>1.5</td>\n",
       "      <td>NaN</td>\n",
       "      <td>1.0</td>\n",
       "      <td>0.0175</td>\n",
       "    </tr>\n",
       "    <tr>\n",
       "      <th>358</th>\n",
       "      <td>2012-11-02</td>\n",
       "      <td>1041.750000</td>\n",
       "      <td>49.25</td>\n",
       "      <td>48.50</td>\n",
       "      <td>2.000000</td>\n",
       "      <td>1.0</td>\n",
       "      <td>NaN</td>\n",
       "      <td>1.0</td>\n",
       "      <td>0.0075</td>\n",
       "    </tr>\n",
       "    <tr>\n",
       "      <th>359</th>\n",
       "      <td>2012-11-03</td>\n",
       "      <td>1310.833333</td>\n",
       "      <td>48.50</td>\n",
       "      <td>48.00</td>\n",
       "      <td>4.333333</td>\n",
       "      <td>1.0</td>\n",
       "      <td>NaN</td>\n",
       "      <td>1.0</td>\n",
       "      <td>0.0050</td>\n",
       "    </tr>\n",
       "    <tr>\n",
       "      <th>360</th>\n",
       "      <td>2012-11-04</td>\n",
       "      <td>1000.000000</td>\n",
       "      <td>47.00</td>\n",
       "      <td>47.00</td>\n",
       "      <td>6.000000</td>\n",
       "      <td>NaN</td>\n",
       "      <td>NaN</td>\n",
       "      <td>1.0</td>\n",
       "      <td>0.0000</td>\n",
       "    </tr>\n",
       "  </tbody>\n",
       "</table>\n",
       "<p>361 rows × 9 columns</p>\n",
       "</div>"
      ],
      "text/plain": [
       "     Start Date  Number of Observations  Obama  Romney  Undecided  Other  \\\n",
       "0    2009-03-13             1403.000000  44.00   44.00  12.000000    NaN   \n",
       "1    2009-04-17              686.000000  50.00   39.00  11.000000    NaN   \n",
       "2    2009-05-14             1000.000000  53.00   35.00  12.000000    NaN   \n",
       "3    2009-06-12              638.000000  48.00   40.00  12.000000    NaN   \n",
       "4    2009-07-15              577.000000  49.00   40.00  11.000000    NaN   \n",
       "..          ...                     ...    ...     ...        ...    ...   \n",
       "356  2012-10-31            10420.250000  48.00   46.50   4.000000    2.0   \n",
       "357  2012-11-01             1989.000000  49.00   47.25   2.400000    1.5   \n",
       "358  2012-11-02             1041.750000  49.25   48.50   2.000000    1.0   \n",
       "359  2012-11-03             1310.833333  48.50   48.00   4.333333    1.0   \n",
       "360  2012-11-04             1000.000000  47.00   47.00   6.000000    NaN   \n",
       "\n",
       "     Question Text  Question Iteration  Difference  \n",
       "0              NaN                 1.0      0.0000  \n",
       "1              NaN                 1.0      0.1100  \n",
       "2              NaN                 1.0      0.1800  \n",
       "3              NaN                 1.0      0.0800  \n",
       "4              NaN                 1.0      0.0900  \n",
       "..             ...                 ...         ...  \n",
       "356            NaN                 1.0      0.0150  \n",
       "357            NaN                 1.0      0.0175  \n",
       "358            NaN                 1.0      0.0075  \n",
       "359            NaN                 1.0      0.0050  \n",
       "360            NaN                 1.0      0.0000  \n",
       "\n",
       "[361 rows x 9 columns]"
      ]
     },
     "execution_count": 16,
     "metadata": {},
     "output_type": "execute_result"
    }
   ],
   "source": [
    "data1=data1.groupby(['Start Date'],as_index=False).mean(numeric_only=True)\n",
    "data1"
   ]
  },
  {
   "cell_type": "code",
   "execution_count": 17,
   "id": "c9f3b340",
   "metadata": {
    "execution": {
     "iopub.execute_input": "2024-09-02T05:38:38.468880Z",
     "iopub.status.busy": "2024-09-02T05:38:38.468436Z",
     "iopub.status.idle": "2024-09-02T05:38:38.834799Z",
     "shell.execute_reply": "2024-09-02T05:38:38.833489Z"
    },
    "papermill": {
     "duration": 0.382453,
     "end_time": "2024-09-02T05:38:38.837526",
     "exception": false,
     "start_time": "2024-09-02T05:38:38.455073",
     "status": "completed"
    },
    "tags": []
   },
   "outputs": [
    {
     "data": {
      "text/plain": [
       "<Axes: xlabel='Start Date'>"
      ]
     },
     "execution_count": 17,
     "metadata": {},
     "output_type": "execute_result"
    },
    {
     "data": {
      "image/png": "[encoded data removed]",
      "text/plain": [
       "<Figure size 1200x400 with 1 Axes>"
      ]
     },
     "metadata": {},
     "output_type": "display_data"
    }
   ],
   "source": [
    "data1.plot('Start Date','Difference',figsize=(12,4),marker='o',linestyle='-',color='red')"
   ]
  },
  {
   "cell_type": "markdown",
   "id": "59d197f1",
   "metadata": {
    "papermill": {
     "duration": 0.012014,
     "end_time": "2024-09-02T05:38:38.863116",
     "exception": false,
     "start_time": "2024-09-02T05:38:38.851102",
     "status": "completed"
    },
    "tags": []
   },
   "source": [
    "<h1 align = \"center\" >Examining the impact of Debates on Voter Sentiment</h1>"
   ]
  },
  {
   "cell_type": "code",
   "execution_count": 18,
   "id": "cf27fe34",
   "metadata": {
    "execution": {
     "iopub.execute_input": "2024-09-02T05:38:38.889844Z",
     "iopub.status.busy": "2024-09-02T05:38:38.889400Z",
     "iopub.status.idle": "2024-09-02T05:38:38.895813Z",
     "shell.execute_reply": "2024-09-02T05:38:38.894538Z"
    },
    "papermill": {
     "duration": 0.022982,
     "end_time": "2024-09-02T05:38:38.898367",
     "exception": false,
     "start_time": "2024-09-02T05:38:38.875385",
     "status": "completed"
    },
    "tags": []
   },
   "outputs": [],
   "source": [
    "row_in = 0\n",
    "xlimit = []\n",
    "\n",
    "for date in data1['Start Date']:\n",
    "    if date[0:7]=='2012-10':\n",
    "        xlimit.append(row_in)\n",
    "        row_in += 1\n",
    "    else:\n",
    "        row_in  += 1"
   ]
  },
  {
   "cell_type": "code",
   "execution_count": 19,
   "id": "de6ce808",
   "metadata": {
    "execution": {
     "iopub.execute_input": "2024-09-02T05:38:38.925398Z",
     "iopub.status.busy": "2024-09-02T05:38:38.924979Z",
     "iopub.status.idle": "2024-09-02T05:38:38.932276Z",
     "shell.execute_reply": "2024-09-02T05:38:38.931109Z"
    },
    "papermill": {
     "duration": 0.023445,
     "end_time": "2024-09-02T05:38:38.934679",
     "exception": false,
     "start_time": "2024-09-02T05:38:38.911234",
     "status": "completed"
    },
    "tags": []
   },
   "outputs": [
    {
     "data": {
      "text/plain": [
       "356"
      ]
     },
     "execution_count": 19,
     "metadata": {},
     "output_type": "execute_result"
    }
   ],
   "source": [
    "max(xlimit)"
   ]
  },
  {
   "cell_type": "code",
   "execution_count": 20,
   "id": "620bac35",
   "metadata": {
    "execution": {
     "iopub.execute_input": "2024-09-02T05:38:38.961389Z",
     "iopub.status.busy": "2024-09-02T05:38:38.960944Z",
     "iopub.status.idle": "2024-09-02T05:38:38.968187Z",
     "shell.execute_reply": "2024-09-02T05:38:38.966922Z"
    },
    "papermill": {
     "duration": 0.023351,
     "end_time": "2024-09-02T05:38:38.970574",
     "exception": false,
     "start_time": "2024-09-02T05:38:38.947223",
     "status": "completed"
    },
    "tags": []
   },
   "outputs": [
    {
     "data": {
      "text/plain": [
       "329"
      ]
     },
     "execution_count": 20,
     "metadata": {},
     "output_type": "execute_result"
    }
   ],
   "source": [
    "min(xlimit)"
   ]
  },
  {
   "cell_type": "code",
   "execution_count": 21,
   "id": "2d411d6c",
   "metadata": {
    "execution": {
     "iopub.execute_input": "2024-09-02T05:38:38.997509Z",
     "iopub.status.busy": "2024-09-02T05:38:38.997049Z",
     "iopub.status.idle": "2024-09-02T05:38:39.297120Z",
     "shell.execute_reply": "2024-09-02T05:38:39.295928Z"
    },
    "papermill": {
     "duration": 0.316538,
     "end_time": "2024-09-02T05:38:39.299741",
     "exception": false,
     "start_time": "2024-09-02T05:38:38.983203",
     "status": "completed"
    },
    "tags": []
   },
   "outputs": [
    {
     "data": {
      "text/plain": [
       "<Axes: xlabel='Start Date'>"
      ]
     },
     "execution_count": 21,
     "metadata": {},
     "output_type": "execute_result"
    },
    {
     "data": {
      "image/png": "[encoded data removed]",
      "text/plain": [
       "<Figure size 1200x400 with 1 Axes>"
      ]
     },
     "metadata": {},
     "output_type": "display_data"
    }
   ],
   "source": [
    "data1.plot('Start Date','Difference',figsize=(12,4),marker='o',linestyle='-',color='purple',xlim=(325,352))"
   ]
  },
  {
   "cell_type": "code",
   "execution_count": 22,
   "id": "c19e4611",
   "metadata": {
    "execution": {
     "iopub.execute_input": "2024-09-02T05:38:39.328620Z",
     "iopub.status.busy": "2024-09-02T05:38:39.328148Z",
     "iopub.status.idle": "2024-09-02T05:38:39.683237Z",
     "shell.execute_reply": "2024-09-02T05:38:39.682027Z"
    },
    "papermill": {
     "duration": 0.372511,
     "end_time": "2024-09-02T05:38:39.685911",
     "exception": false,
     "start_time": "2024-09-02T05:38:39.313400",
     "status": "completed"
    },
    "tags": []
   },
   "outputs": [
    {
     "data": {
      "text/plain": [
       "<matplotlib.lines.Line2D at 0x7f5002683fa0>"
      ]
     },
     "execution_count": 22,
     "metadata": {},
     "output_type": "execute_result"
    },
    {
     "data": {
      "image/png": "[encoded data removed]",
      "text/plain": [
       "<Figure size 640x480 with 1 Axes>"
      ]
     },
     "metadata": {},
     "output_type": "display_data"
    }
   ],
   "source": [
    "plt.axvline(x=325+2,linewidth=4,color='red')\n",
    "plt.axvline(x=325+10,linewidth=4,color='red')\n",
    "plt.axvline(x=325+21,linewidth=4,color='red')"
   ]
  },
  {
   "cell_type": "code",
   "execution_count": 23,
   "id": "8f917564",
   "metadata": {
    "execution": {
     "iopub.execute_input": "2024-09-02T05:38:39.715423Z",
     "iopub.status.busy": "2024-09-02T05:38:39.714488Z",
     "iopub.status.idle": "2024-09-02T05:38:40.018553Z",
     "shell.execute_reply": "2024-09-02T05:38:40.017418Z"
    },
    "papermill": {
     "duration": 0.321168,
     "end_time": "2024-09-02T05:38:40.020828",
     "exception": false,
     "start_time": "2024-09-02T05:38:39.699660",
     "status": "completed"
    },
    "tags": []
   },
   "outputs": [
    {
     "data": {
      "text/plain": [
       "<matplotlib.lines.Line2D at 0x7f50026e9180>"
      ]
     },
     "execution_count": 23,
     "metadata": {},
     "output_type": "execute_result"
    },
    {
     "data": {
      "image/png": "[encoded data removed]",
      "text/plain": [
       "<Figure size 1200x400 with 1 Axes>"
      ]
     },
     "metadata": {},
     "output_type": "display_data"
    }
   ],
   "source": [
    "data1.plot('Start Date','Difference',figsize=(12,4),marker='o',linestyle='-',color='purple',xlim=(325,352))\n",
    "plt.axvline(x=325+2,linewidth=4,color='red')\n",
    "plt.axvline(x=325+10,linewidth=4,color='red')\n",
    "plt.axvline(x=325+21,linewidth=4,color='red')"
   ]
  },
  {
   "cell_type": "markdown",
   "id": "cd19d093",
   "metadata": {
    "papermill": {
     "duration": 0.014479,
     "end_time": "2024-09-02T05:38:40.049645",
     "exception": false,
     "start_time": "2024-09-02T05:38:40.035166",
     "status": "completed"
    },
    "tags": []
   },
   "source": [
    "<h1 align = \"center\" >Plot Debate Dates and their Impacts</h1>"
   ]
  }
 ],
 "metadata": {
  "kaggle": {
   "accelerator": "none",
   "dataSources": [
    {
     "datasetId": 497,
     "sourceId": 803884,
     "sourceType": "datasetVersion"
    }
   ],
   "dockerImageVersionId": 30761,
   "isGpuEnabled": false,
   "isInternetEnabled": false,
   "language": "python",
   "sourceType": "notebook"
  },
  "kernelspec": {
   "display_name": "Python 3",
   "language": "python",
   "name": "python3"
  },
  "language_info": {
   "codemirror_mode": {
    "name": "ipython",
    "version": 3
   },
   "file_extension": ".py",
   "mimetype": "text/x-python",
   "name": "python",
   "nbconvert_exporter": "python",
   "pygments_lexer": "ipython3",
   "version": "3.10.14"
  },
  "papermill": {
   "default_parameters": {},
   "duration": 9.48144,
   "end_time": "2024-09-02T05:38:40.689545",
   "environment_variables": {},
   "exception": null,
   "input_path": "__notebook__.ipynb",
   "output_path": "__notebook__.ipynb",
   "parameters": {},
   "start_time": "2024-09-02T05:38:31.208105",
   "version": "2.6.0"
  }
 },
 "nbformat": 4,
 "nbformat_minor": 5
}
